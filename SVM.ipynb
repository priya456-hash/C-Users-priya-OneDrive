{
 "cells": [
  {
   "cell_type": "code",
   "execution_count": 1,
   "metadata": {},
   "outputs": [],
   "source": [
    "import pandas as pd\n",
    "from sklearn import datasets\n",
    "dataset = pd.read_csv(\"beer.txt\")"
   ]
  },
  {
   "cell_type": "code",
   "execution_count": 2,
   "metadata": {},
   "outputs": [
    {
     "data": {
      "text/html": [
       "<div>\n",
       "<style scoped>\n",
       "    .dataframe tbody tr th:only-of-type {\n",
       "        vertical-align: middle;\n",
       "    }\n",
       "\n",
       "    .dataframe tbody tr th {\n",
       "        vertical-align: top;\n",
       "    }\n",
       "\n",
       "    .dataframe thead th {\n",
       "        text-align: right;\n",
       "    }\n",
       "</style>\n",
       "<table border=\"1\" class=\"dataframe\">\n",
       "  <thead>\n",
       "    <tr style=\"text-align: right;\">\n",
       "      <th></th>\n",
       "      <th>calorific_value</th>\n",
       "      <th>nitrogen</th>\n",
       "      <th>turbidity</th>\n",
       "      <th>style</th>\n",
       "      <th>alcohol</th>\n",
       "      <th>sugars</th>\n",
       "      <th>bitterness</th>\n",
       "      <th>beer_id</th>\n",
       "      <th>colour</th>\n",
       "      <th>degree_of_fermentation</th>\n",
       "    </tr>\n",
       "  </thead>\n",
       "  <tbody>\n",
       "    <tr>\n",
       "      <th>0</th>\n",
       "      <td>41.721239</td>\n",
       "      <td>0.503276</td>\n",
       "      <td>2.628182</td>\n",
       "      <td>ale</td>\n",
       "      <td>4.015385</td>\n",
       "      <td>16.73</td>\n",
       "      <td>10.452789</td>\n",
       "      <td>93</td>\n",
       "      <td>13.44</td>\n",
       "      <td>55.337143</td>\n",
       "    </tr>\n",
       "    <tr>\n",
       "      <th>1</th>\n",
       "      <td>42.429204</td>\n",
       "      <td>0.525512</td>\n",
       "      <td>1.776364</td>\n",
       "      <td>ale</td>\n",
       "      <td>4.092308</td>\n",
       "      <td>16.72</td>\n",
       "      <td>10.999526</td>\n",
       "      <td>103</td>\n",
       "      <td>12.24</td>\n",
       "      <td>58.380000</td>\n",
       "    </tr>\n",
       "    <tr>\n",
       "      <th>2</th>\n",
       "      <td>45.880531</td>\n",
       "      <td>0.443233</td>\n",
       "      <td>2.628182</td>\n",
       "      <td>ale</td>\n",
       "      <td>4.276923</td>\n",
       "      <td>16.68</td>\n",
       "      <td>13.456368</td>\n",
       "      <td>178</td>\n",
       "      <td>10.92</td>\n",
       "      <td>58.382857</td>\n",
       "    </tr>\n",
       "    <tr>\n",
       "      <th>3</th>\n",
       "      <td>45.305310</td>\n",
       "      <td>0.471668</td>\n",
       "      <td>1.806364</td>\n",
       "      <td>ale</td>\n",
       "      <td>4.126154</td>\n",
       "      <td>18.84</td>\n",
       "      <td>9.202737</td>\n",
       "      <td>166</td>\n",
       "      <td>10.92</td>\n",
       "      <td>58.525714</td>\n",
       "    </tr>\n",
       "    <tr>\n",
       "      <th>4</th>\n",
       "      <td>38.977876</td>\n",
       "      <td>0.392846</td>\n",
       "      <td>2.272727</td>\n",
       "      <td>ale</td>\n",
       "      <td>4.015385</td>\n",
       "      <td>16.77</td>\n",
       "      <td>9.457895</td>\n",
       "      <td>44</td>\n",
       "      <td>10.56</td>\n",
       "      <td>58.900000</td>\n",
       "    </tr>\n",
       "  </tbody>\n",
       "</table>\n",
       "</div>"
      ],
      "text/plain": [
       "   calorific_value  nitrogen  turbidity style   alcohol  sugars  bitterness  \\\n",
       "0        41.721239  0.503276   2.628182   ale  4.015385   16.73   10.452789   \n",
       "1        42.429204  0.525512   1.776364   ale  4.092308   16.72   10.999526   \n",
       "2        45.880531  0.443233   2.628182   ale  4.276923   16.68   13.456368   \n",
       "3        45.305310  0.471668   1.806364   ale  4.126154   18.84    9.202737   \n",
       "4        38.977876  0.392846   2.272727   ale  4.015385   16.77    9.457895   \n",
       "\n",
       "   beer_id  colour  degree_of_fermentation  \n",
       "0       93   13.44               55.337143  \n",
       "1      103   12.24               58.380000  \n",
       "2      178   10.92               58.382857  \n",
       "3      166   10.92               58.525714  \n",
       "4       44   10.56               58.900000  "
      ]
     },
     "execution_count": 2,
     "metadata": {},
     "output_type": "execute_result"
    }
   ],
   "source": [
    "dataset.head()"
   ]
  },
  {
   "cell_type": "code",
   "execution_count": 3,
   "metadata": {},
   "outputs": [],
   "source": [
    "df0 = dataset.loc[dataset['style'] == \"ale\"]\n",
    "df1 = dataset.loc[dataset['style'] == \"lager\"]\n",
    "df2 = dataset.loc[dataset['style'] == \"stout\"]"
   ]
  },
  {
   "cell_type": "code",
   "execution_count": 4,
   "metadata": {},
   "outputs": [
    {
     "data": {
      "text/html": [
       "<div>\n",
       "<style scoped>\n",
       "    .dataframe tbody tr th:only-of-type {\n",
       "        vertical-align: middle;\n",
       "    }\n",
       "\n",
       "    .dataframe tbody tr th {\n",
       "        vertical-align: top;\n",
       "    }\n",
       "\n",
       "    .dataframe thead th {\n",
       "        text-align: right;\n",
       "    }\n",
       "</style>\n",
       "<table border=\"1\" class=\"dataframe\">\n",
       "  <thead>\n",
       "    <tr style=\"text-align: right;\">\n",
       "      <th></th>\n",
       "      <th>calorific_value</th>\n",
       "      <th>nitrogen</th>\n",
       "      <th>turbidity</th>\n",
       "      <th>alcohol</th>\n",
       "      <th>sugars</th>\n",
       "      <th>bitterness</th>\n",
       "      <th>beer_id</th>\n",
       "      <th>colour</th>\n",
       "      <th>degree_of_fermentation</th>\n",
       "    </tr>\n",
       "  </thead>\n",
       "  <tbody>\n",
       "    <tr>\n",
       "      <th>0</th>\n",
       "      <td>41.721239</td>\n",
       "      <td>0.503276</td>\n",
       "      <td>2.628182</td>\n",
       "      <td>4.015385</td>\n",
       "      <td>16.73</td>\n",
       "      <td>10.452789</td>\n",
       "      <td>93</td>\n",
       "      <td>13.44</td>\n",
       "      <td>55.337143</td>\n",
       "    </tr>\n",
       "    <tr>\n",
       "      <th>1</th>\n",
       "      <td>42.429204</td>\n",
       "      <td>0.525512</td>\n",
       "      <td>1.776364</td>\n",
       "      <td>4.092308</td>\n",
       "      <td>16.72</td>\n",
       "      <td>10.999526</td>\n",
       "      <td>103</td>\n",
       "      <td>12.24</td>\n",
       "      <td>58.380000</td>\n",
       "    </tr>\n",
       "    <tr>\n",
       "      <th>2</th>\n",
       "      <td>45.880531</td>\n",
       "      <td>0.443233</td>\n",
       "      <td>2.628182</td>\n",
       "      <td>4.276923</td>\n",
       "      <td>16.68</td>\n",
       "      <td>13.456368</td>\n",
       "      <td>178</td>\n",
       "      <td>10.92</td>\n",
       "      <td>58.382857</td>\n",
       "    </tr>\n",
       "    <tr>\n",
       "      <th>3</th>\n",
       "      <td>45.305310</td>\n",
       "      <td>0.471668</td>\n",
       "      <td>1.806364</td>\n",
       "      <td>4.126154</td>\n",
       "      <td>18.84</td>\n",
       "      <td>9.202737</td>\n",
       "      <td>166</td>\n",
       "      <td>10.92</td>\n",
       "      <td>58.525714</td>\n",
       "    </tr>\n",
       "    <tr>\n",
       "      <th>4</th>\n",
       "      <td>38.977876</td>\n",
       "      <td>0.392846</td>\n",
       "      <td>2.272727</td>\n",
       "      <td>4.015385</td>\n",
       "      <td>16.77</td>\n",
       "      <td>9.457895</td>\n",
       "      <td>44</td>\n",
       "      <td>10.56</td>\n",
       "      <td>58.900000</td>\n",
       "    </tr>\n",
       "    <tr>\n",
       "      <th>...</th>\n",
       "      <td>...</td>\n",
       "      <td>...</td>\n",
       "      <td>...</td>\n",
       "      <td>...</td>\n",
       "      <td>...</td>\n",
       "      <td>...</td>\n",
       "      <td>...</td>\n",
       "      <td>...</td>\n",
       "      <td>...</td>\n",
       "    </tr>\n",
       "    <tr>\n",
       "      <th>149</th>\n",
       "      <td>39.951327</td>\n",
       "      <td>0.272587</td>\n",
       "      <td>5.217273</td>\n",
       "      <td>4.412308</td>\n",
       "      <td>16.68</td>\n",
       "      <td>6.008368</td>\n",
       "      <td>54</td>\n",
       "      <td>6.84</td>\n",
       "      <td>74.757143</td>\n",
       "    </tr>\n",
       "    <tr>\n",
       "      <th>150</th>\n",
       "      <td>40.039823</td>\n",
       "      <td>0.347919</td>\n",
       "      <td>2.859091</td>\n",
       "      <td>4.178462</td>\n",
       "      <td>17.58</td>\n",
       "      <td>7.340842</td>\n",
       "      <td>56</td>\n",
       "      <td>8.88</td>\n",
       "      <td>74.887143</td>\n",
       "    </tr>\n",
       "    <tr>\n",
       "      <th>151</th>\n",
       "      <td>43.977876</td>\n",
       "      <td>0.266770</td>\n",
       "      <td>3.775455</td>\n",
       "      <td>4.347692</td>\n",
       "      <td>19.10</td>\n",
       "      <td>7.356000</td>\n",
       "      <td>132</td>\n",
       "      <td>7.32</td>\n",
       "      <td>75.894286</td>\n",
       "    </tr>\n",
       "    <tr>\n",
       "      <th>152</th>\n",
       "      <td>45.349558</td>\n",
       "      <td>0.255530</td>\n",
       "      <td>1.301818</td>\n",
       "      <td>4.160000</td>\n",
       "      <td>18.17</td>\n",
       "      <td>3.243579</td>\n",
       "      <td>169</td>\n",
       "      <td>10.68</td>\n",
       "      <td>76.182857</td>\n",
       "    </tr>\n",
       "    <tr>\n",
       "      <th>153</th>\n",
       "      <td>41.190265</td>\n",
       "      <td>0.283403</td>\n",
       "      <td>2.620909</td>\n",
       "      <td>4.123077</td>\n",
       "      <td>19.60</td>\n",
       "      <td>7.554947</td>\n",
       "      <td>80</td>\n",
       "      <td>8.04</td>\n",
       "      <td>79.134286</td>\n",
       "    </tr>\n",
       "  </tbody>\n",
       "</table>\n",
       "<p>154 rows × 9 columns</p>\n",
       "</div>"
      ],
      "text/plain": [
       "     calorific_value  nitrogen  turbidity   alcohol  sugars  bitterness  \\\n",
       "0          41.721239  0.503276   2.628182  4.015385   16.73   10.452789   \n",
       "1          42.429204  0.525512   1.776364  4.092308   16.72   10.999526   \n",
       "2          45.880531  0.443233   2.628182  4.276923   16.68   13.456368   \n",
       "3          45.305310  0.471668   1.806364  4.126154   18.84    9.202737   \n",
       "4          38.977876  0.392846   2.272727  4.015385   16.77    9.457895   \n",
       "..               ...       ...        ...       ...     ...         ...   \n",
       "149        39.951327  0.272587   5.217273  4.412308   16.68    6.008368   \n",
       "150        40.039823  0.347919   2.859091  4.178462   17.58    7.340842   \n",
       "151        43.977876  0.266770   3.775455  4.347692   19.10    7.356000   \n",
       "152        45.349558  0.255530   1.301818  4.160000   18.17    3.243579   \n",
       "153        41.190265  0.283403   2.620909  4.123077   19.60    7.554947   \n",
       "\n",
       "     beer_id  colour  degree_of_fermentation  \n",
       "0         93   13.44               55.337143  \n",
       "1        103   12.24               58.380000  \n",
       "2        178   10.92               58.382857  \n",
       "3        166   10.92               58.525714  \n",
       "4         44   10.56               58.900000  \n",
       "..       ...     ...                     ...  \n",
       "149       54    6.84               74.757143  \n",
       "150       56    8.88               74.887143  \n",
       "151      132    7.32               75.894286  \n",
       "152      169   10.68               76.182857  \n",
       "153       80    8.04               79.134286  \n",
       "\n",
       "[154 rows x 9 columns]"
      ]
     },
     "execution_count": 4,
     "metadata": {},
     "output_type": "execute_result"
    }
   ],
   "source": [
    "import matplotlib.pyplot as plt\n",
    "%matplotlib inline\n",
    "dataset.drop(['style'], axis='columns')"
   ]
  },
  {
   "cell_type": "code",
   "execution_count": 5,
   "metadata": {},
   "outputs": [
    {
     "data": {
      "text/plain": [
       "<matplotlib.collections.PathCollection at 0x1ab2e9b3f70>"
      ]
     },
     "execution_count": 5,
     "metadata": {},
     "output_type": "execute_result"
    },
    {
     "data": {
      "image/png": "[encoded data removed]",
      "text/plain": [
       "<Figure size 432x288 with 1 Axes>"
      ]
     },
     "metadata": {
      "needs_background": "light"
     },
     "output_type": "display_data"
    }
   ],
   "source": [
    "plt.xlabel('alcohol')\n",
    "plt.ylabel('colour')\n",
    "plt.scatter(df0['alcohol'], df0['colour'],color=\"green\",marker='+')\n",
    "plt.scatter(df1['alcohol'], df1['colour'],color=\"blue\",marker='.')\n",
    "plt.scatter(df2['alcohol'], df2['colour'],color=\"red\",marker='*')"
   ]
  },
  {
   "cell_type": "code",
   "execution_count": 6,
   "metadata": {},
   "outputs": [
    {
     "data": {
      "text/plain": [
       "<matplotlib.collections.PathCollection at 0x1ab2ea6ed60>"
      ]
     },
     "execution_count": 6,
     "metadata": {},
     "output_type": "execute_result"
    },
    {
     "data": {
      "image/png": "[encoded data removed]",
      "text/plain": [
       "<Figure size 432x288 with 1 Axes>"
      ]
     },
     "metadata": {
      "needs_background": "light"
     },
     "output_type": "display_data"
    }
   ],
   "source": [
    "plt.xlabel('calorific_value')\n",
    "plt.ylabel('nitrogen')\n",
    "plt.scatter(df0['calorific_value'], df0['nitrogen'],color=\"green\",marker='+')\n",
    "plt.scatter(df1['calorific_value'], df1['nitrogen'],color=\"blue\",marker='.')\n",
    "plt.scatter(df2['calorific_value'], df2['nitrogen'],color=\"red\",marker='*')"
   ]
  },
  {
   "cell_type": "code",
   "execution_count": 7,
   "metadata": {},
   "outputs": [],
   "source": [
    "from sklearn.model_selection import train_test_split"
   ]
  },
  {
   "cell_type": "code",
   "execution_count": 8,
   "metadata": {},
   "outputs": [],
   "source": [
    "X = dataset.drop(['style'], axis='columns')\n",
    "y = dataset['style']"
   ]
  },
  {
   "cell_type": "code",
   "execution_count": 9,
   "metadata": {},
   "outputs": [],
   "source": [
    "X_train, X_test, y_train, y_test = train_test_split(X, y, test_size=(1/3))"
   ]
  },
  {
   "cell_type": "code",
   "execution_count": 10,
   "metadata": {},
   "outputs": [
    {
     "data": {
      "text/plain": [
       "102"
      ]
     },
     "execution_count": 10,
     "metadata": {},
     "output_type": "execute_result"
    }
   ],
   "source": [
    "len(X_train)\n"
   ]
  },
  {
   "cell_type": "code",
   "execution_count": 11,
   "metadata": {},
   "outputs": [
    {
     "data": {
      "text/plain": [
       "52"
      ]
     },
     "execution_count": 11,
     "metadata": {},
     "output_type": "execute_result"
    }
   ],
   "source": [
    "len(X_test)\n"
   ]
  },
  {
   "cell_type": "code",
   "execution_count": 12,
   "metadata": {},
   "outputs": [],
   "source": [
    "import numpy as np\n",
    "import sklearn"
   ]
  },
  {
   "cell_type": "code",
   "execution_count": 13,
   "metadata": {},
   "outputs": [],
   "source": [
    "#Picking SVM as small data sets and high dimensionaldata\n",
    "from sklearn.svm import SVC"
   ]
  },
  {
   "cell_type": "code",
   "execution_count": 17,
   "metadata": {},
   "outputs": [
    {
     "data": {
      "text/plain": [
       "SVC(decision_function_shape='ovo', kernel='linear')"
      ]
     },
     "execution_count": 17,
     "metadata": {},
     "output_type": "execute_result"
    }
   ],
   "source": [
    "#OVO as only 3 classes\n",
    "model_linear_kernal = SVC(kernel='linear', decision_function_shape = 'ovo')\n",
    "model_linear_kernal.fit(X_train, y_train)\n",
    "model_linear_kernal"
   ]
  },
  {
   "cell_type": "code",
   "execution_count": 18,
   "metadata": {},
   "outputs": [
    {
     "data": {
      "text/plain": [
       "0.8653846153846154"
      ]
     },
     "execution_count": 18,
     "metadata": {},
     "output_type": "execute_result"
    }
   ],
   "source": [
    "accuracy = model_linear_kernal.score(X_test, y_test)\n",
    "accuracy"
   ]
  },
  {
   "cell_type": "code",
   "execution_count": null,
   "metadata": {},
   "outputs": [],
   "source": [
    "cm_lin = sklearn.metrics.confusion_matrix(y_test, model_linear_kernal)"
   ]
  },
  {
   "cell_type": "code",
   "execution_count": 24,
   "metadata": {},
   "outputs": [],
   "source": [
    "import numpy as np\n",
    "\n",
    "from sklearn.base import BaseEstimator, ClassifierMixin\n",
    "from sklearn.utils import check_random_state\n",
    "from sklearn.preprocessing import LabelEncoder\n",
    "\n",
    "\n",
    "def projection_simplex(v, z=1):\n",
    "    \"\"\"\n",
    "    Projection onto the simplex:\n",
    "        w^* = argmin_w 0.5 ||w-v||^2 s.t. \\sum_i w_i = z, w_i >= 0\n",
    "    \"\"\"\n",
    "    # For other algorithms computing the same projection, see\n",
    "    # https://gist.github.com/mblondel/6f3b7aaad90606b98f71\n",
    "    n_features = v.shape[0]\n",
    "    u = np.sort(v)[::-1]\n",
    "    cssv = np.cumsum(u) - z\n",
    "    ind = np.arange(n_features) + 1\n",
    "    cond = u - cssv / ind > 0\n",
    "    rho = ind[cond][-1]\n",
    "    theta = cssv[cond][-1] / float(rho)\n",
    "    w = np.maximum(v - theta, 0)\n",
    "    return w\n",
    "\n",
    "\n",
    "class MulticlassSVM(BaseEstimator, ClassifierMixin):\n",
    "\n",
    "    def __init__(self, C=1, max_iter=50, tol=0.05,\n",
    "                 random_state=None, verbose=0):\n",
    "        self.C = C\n",
    "        self.max_iter = max_iter\n",
    "        self.tol = tol,\n",
    "        self.random_state = random_state\n",
    "        self.verbose = verbose\n",
    "\n",
    "    def _partial_gradient(self, X, y, i):\n",
    "        # Partial gradient for the ith sample.\n",
    "        g = np.dot(X[i], self.coef_.T) + 1\n",
    "        g[y[i]] -= 1\n",
    "        return g\n",
    "\n",
    "    def _violation(self, g, y, i):\n",
    "        # Optimality violation for the ith sample.\n",
    "        smallest = np.inf\n",
    "        for k in range(g.shape[0]):\n",
    "            if k == y[i] and self.dual_coef_[k, i] >= self.C:\n",
    "                continue\n",
    "            elif k != y[i] and self.dual_coef_[k, i] >= 0:\n",
    "                continue\n",
    "\n",
    "            smallest = min(smallest, g[k])\n",
    "\n",
    "        return g.max() - smallest\n",
    "\n",
    "    def _solve_subproblem(self, g, y, norms, i):\n",
    "        # Prepare inputs to the projection.\n",
    "        Ci = np.zeros(g.shape[0])\n",
    "        Ci[y[i]] = self.C\n",
    "        beta_hat = norms[i] * (Ci - self.dual_coef_[:, i]) + g / norms[i]\n",
    "        z = self.C * norms[i]\n",
    "\n",
    "        # Compute projection onto the simplex.\n",
    "        beta = projection_simplex(beta_hat, z)\n",
    "\n",
    "        return Ci - self.dual_coef_[:, i] - beta / norms[i]\n",
    "\n",
    "    def fit(self, X, y):\n",
    "        n_samples, n_features = X.shape\n",
    "\n",
    "        # Normalize labels.\n",
    "        self._label_encoder = LabelEncoder()\n",
    "        y = self._label_encoder.fit_transform(y)\n",
    "\n",
    "        # Initialize primal and dual coefficients.\n",
    "        n_classes = len(self._label_encoder.classes_)\n",
    "        self.dual_coef_ = np.zeros((n_classes, n_samples), dtype=np.float64)\n",
    "        self.coef_ = np.zeros((n_classes, n_features))\n",
    "\n",
    "        # Pre-compute norms.\n",
    "        norms = np.sqrt(np.sum(X ** 2, axis=1))\n",
    "\n",
    "        # Shuffle sample indices.\n",
    "        rs = check_random_state(self.random_state)\n",
    "        ind = np.arange(n_samples)\n",
    "        rs.shuffle(ind)\n",
    "\n",
    "        violation_init = None\n",
    "        for it in range(self.max_iter):\n",
    "            violation_sum = 0\n",
    "\n",
    "            for ii in range(n_samples):\n",
    "                i = ind[ii]\n",
    "\n",
    "                # All-zero samples can be safely ignored.\n",
    "                if norms[i] == 0:\n",
    "                    continue\n",
    "\n",
    "                g = self._partial_gradient(X, y, i)\n",
    "                v = self._violation(g, y, i)\n",
    "                violation_sum += v\n",
    "\n",
    "                if v < 1e-12:\n",
    "                    continue\n",
    "\n",
    "                # Solve subproblem for the ith sample.\n",
    "                delta = self._solve_subproblem(g, y, norms, i)\n",
    "\n",
    "                # Update primal and dual coefficients.\n",
    "                self.coef_ += (delta * X[i][:, np.newaxis]).T\n",
    "                self.dual_coef_[:, i] += delta\n",
    "\n",
    "            if it == 0:\n",
    "                violation_init = violation_sum\n",
    "\n",
    "            vratio = violation_sum / violation_init\n",
    "\n",
    "            #if self.verbose >= 1:\n",
    "                #print(\"iter\", it + 1, \"violation\", vratio)\n",
    "\n",
    "            if vratio < self.tol:\n",
    "                if self.verbose >= 1:\n",
    "                    print(\"Converged\")\n",
    "                break\n",
    "\n",
    "        return self\n",
    "\n",
    "    def predict(self, X):\n",
    "        decision = np.dot(X, self.coef_.T)\n",
    "        pred = decision.argmax(axis=1)\n",
    "        return self._label_encoder.inverse_transform(pred)\n",
    "\n"
   ]
  },
  {
   "cell_type": "code",
   "execution_count": 37,
   "metadata": {},
   "outputs": [],
   "source": [
    "import pandas\n",
    "\n",
    "x_df=X_train.to_numpy()\n",
    "y_df=y_train.to_numpy()"
   ]
  },
  {
   "cell_type": "code",
   "execution_count": 38,
   "metadata": {},
   "outputs": [
    {
     "name": "stdout",
     "output_type": "stream",
     "text": [
      "0.7450980392156863\n"
     ]
    }
   ],
   "source": [
    "clf = MulticlassSVM(C=1, tol=0.05, max_iter=1000, random_state=0, verbose=1)\n",
    "clf.fit(x_df, y_df)\n",
    "\n",
    "print(clf.score(x_df, y_df))\n"
   ]
  },
  {
   "cell_type": "code",
   "execution_count": 39,
   "metadata": {},
   "outputs": [],
   "source": [
    "x_dft=X_test.to_numpy()\n",
    "y_dft=y_test.to_numpy()"
   ]
  },
  {
   "cell_type": "code",
   "execution_count": 40,
   "metadata": {},
   "outputs": [
    {
     "name": "stdout",
     "output_type": "stream",
     "text": [
      "0.7692307692307693\n"
     ]
    }
   ],
   "source": [
    "print(clf.score(x_dft, y_dft))\n"
   ]
  },
  {
   "cell_type": "code",
   "execution_count": null,
   "metadata": {},
   "outputs": [],
   "source": []
  }
 ],
 "metadata": {
  "kernelspec": {
   "display_name": "Python 3",
   "language": "python",
   "name": "python3"
  },
  "language_info": {
   "codemirror_mode": {
    "name": "ipython",
    "version": 3
   },
   "file_extension": ".py",
   "mimetype": "text/x-python",
   "name": "python",
   "nbconvert_exporter": "python",
   "pygments_lexer": "ipython3",
   "version": "3.8.3"
  }
 },
 "nbformat": 4,
 "nbformat_minor": 4
}
